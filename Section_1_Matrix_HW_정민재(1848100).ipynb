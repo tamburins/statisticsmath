{
  "nbformat": 4,
  "nbformat_minor": 0,
  "metadata": {
    "kernelspec": {
      "display_name": "Python 3",
      "language": "python",
      "name": "python3"
    },
    "language_info": {
      "codemirror_mode": {
        "name": "ipython",
        "version": 3
      },
      "file_extension": ".py",
      "mimetype": "text/x-python",
      "name": "python",
      "nbconvert_exporter": "python",
      "pygments_lexer": "ipython3",
      "version": "3.7.3"
    },
    "colab": {
      "provenance": [],
      "include_colab_link": true
    }
  },
  "cells": [
    {
      "cell_type": "markdown",
      "metadata": {
        "id": "view-in-github",
        "colab_type": "text"
      },
      "source": [
        "<a href=\"https://colab.research.google.com/github/tamburins/statisticsmath/blob/main/Section_1_Matrix_HW_%EC%A0%95%EB%AF%BC%EC%9E%AC(1848100).ipynb\" target=\"_parent\"><img src=\"https://colab.research.google.com/assets/colab-badge.svg\" alt=\"Open In Colab\"/></a>"
      ]
    },
    {
      "cell_type": "markdown",
      "metadata": {
        "id": "WBxjR-qPElMU"
      },
      "source": [
        "# Textbook HW\n",
        "\n",
        "Solve the problems in the attached file."
      ]
    },
    {
      "cell_type": "markdown",
      "metadata": {
        "id": "IBYcZUh3ElMU"
      },
      "source": [
        "## Python Homework for Matrix\n",
        "\n",
        "Python 1. Write a function which takes an input parameter $A$, $i$ and $j$ and returns the dot product of the $i$th and $j$th row (indexing starts at 0).\n",
        "\n",
        "\n",
        "Python 2. Compute the matrix equation $AB + 2B^2 - I$ for matrices $A = \\begin{bmatrix} 3 & 4 \\\\\\ -1 & 2 \\end{bmatrix}$ and $B = \\begin{bmatrix} 5 & 2 \\\\\\ 8 & -3 \\end{bmatrix}$.        \n",
        "\n",
        "\n",
        "Python 3. For a given $n\\times n$ matrix $A=(a_{i,i})$, write Python function to calculate the sum of the other direction diagonal elements defined as follows\n",
        "\n",
        "$$\\sum\\limits_{i=1}^{n}a_{n-i+1,i}.$$\n",
        "Try the function with \n",
        "$$A = \\begin{bmatrix} 5 & 2 & 3 \\\\\\ 8 & -3 & 4 \\\\\\ 8 & -3 & 4 \\end{bmatrix}$$\n",
        "and\n",
        "$$B = \\begin{bmatrix} 51 & 4 & 0 & 0 \\\\\\ 2 & -1 & 5 & 1\\\\\\ 1 & -1 & 1 & 1 \\\\\\ 1 & -1 & 1 & 1 \\end{bmatrix}.$$"
      ]
    },
    {
      "cell_type": "markdown",
      "source": [
        "# python 1"
      ],
      "metadata": {
        "id": "UoRhTMoSz3Tt"
      }
    },
    {
      "cell_type": "code",
      "source": [
        "import numpy as np"
      ],
      "metadata": {
        "id": "CjAlmI6wt-8s"
      },
      "execution_count": null,
      "outputs": []
    },
    {
      "cell_type": "code",
      "source": [
        "def dot_product(mat, i,j):\n",
        "  return np.dot(mat[i-1,:],mat.T[:,j-1])"
      ],
      "metadata": {
        "id": "Zalg3daoz41r"
      },
      "execution_count": null,
      "outputs": []
    },
    {
      "cell_type": "code",
      "source": [
        "A = np.array([[3,2,1],[1,2,3],[0,3,2]])\n",
        "A.shape"
      ],
      "metadata": {
        "colab": {
          "base_uri": "https://localhost:8080/"
        },
        "id": "lO02YqLUJS23",
        "outputId": "037cf401-566f-4533-da69-97d1362d715e"
      },
      "execution_count": null,
      "outputs": [
        {
          "output_type": "execute_result",
          "data": {
            "text/plain": [
              "(3, 3)"
            ]
          },
          "metadata": {},
          "execution_count": 5
        }
      ]
    },
    {
      "cell_type": "code",
      "source": [
        "dot_product(A,1,3)\n"
      ],
      "metadata": {
        "colab": {
          "base_uri": "https://localhost:8080/"
        },
        "id": "Gw3AamFOJd8-",
        "outputId": "e9ee9f4c-78ca-4dbc-c6d1-cea85587ab77"
      },
      "execution_count": null,
      "outputs": [
        {
          "output_type": "execute_result",
          "data": {
            "text/plain": [
              "8"
            ]
          },
          "metadata": {},
          "execution_count": 6
        }
      ]
    },
    {
      "cell_type": "code",
      "source": [
        "dot_product(A,2,1)"
      ],
      "metadata": {
        "colab": {
          "base_uri": "https://localhost:8080/"
        },
        "id": "oQXu5wgA71gK",
        "outputId": "ef865c0e-0ace-4575-a8b0-69898d99e92a"
      },
      "execution_count": null,
      "outputs": [
        {
          "output_type": "execute_result",
          "data": {
            "text/plain": [
              "10"
            ]
          },
          "metadata": {},
          "execution_count": 7
        }
      ]
    },
    {
      "cell_type": "markdown",
      "source": [
        "어떤 행렬이 주어졌을 때, 어떤 행렬의 i번쨰 행과 j번째 행을 각 벡터처럼 취급, 내적하여 값을 나타내는 것이다.예시로 3행 3열의 A라는 행렬을 넣어 1,3번째 행을 각각 내적하고 싶은 경우, 각 행은 차원이 1행 3열로 동일하기 때문에 내적을 위해선 한 행을 전치해주어야 한다. 따라서 함수 상에서는 뒤에 오는 행을 전치해주어 연산을 처리하였다.\n",
        "\n",
        "두번째로 행렬의 인덱싱은 0번부터 시작하여 1번째 행을 선택하고 싶은 경우 인덱스 0이 함수 내로 들어가야 하기 때문에 인덱스를 지정할 때 입력한 i,j보다 1 적은 숫자가 함수 안에 들어가여 인덱싱하도록 설정하였다.\n",
        "\n",
        "이를 바탕으로 행렬 A [[3,2,1],[1,2,3],[0,3,2]]와 숫자 1,3을 넣을 경우 각각 1행과 3행전치의 내적인 8이 나오고, 2,1을 넣을 경우 2행과 1행의 내적인 10이 나올 수 있도록 한다."
      ],
      "metadata": {
        "id": "0AjmdQnulqQH"
      }
    },
    {
      "cell_type": "markdown",
      "source": [
        "# python 2"
      ],
      "metadata": {
        "id": "72wRZFLSzzh8"
      }
    },
    {
      "cell_type": "code",
      "metadata": {
        "id": "03FFvjunFyUJ",
        "colab": {
          "base_uri": "https://localhost:8080/"
        },
        "outputId": "dcdba00a-7133-415f-92ae-c55d5a00d47f"
      },
      "source": [
        "# python 2\n",
        "A = np.array([[3,4],\n",
        "              [-1,2]])\n",
        "B = np.array([[5,2],\n",
        "              [8,-3]])\n",
        "I = np.identity(n=2)\n",
        "\n",
        "print( A@B + 2*B@B - I )"
      ],
      "execution_count": null,
      "outputs": [
        {
          "output_type": "stream",
          "name": "stdout",
          "text": [
            "[[1. 0.]\n",
            " [0. 1.]]\n",
            "[[128.   2.]\n",
            " [ 43.  41.]]\n"
          ]
        }
      ]
    },
    {
      "cell_type": "markdown",
      "source": [
        "numpy의 array를 이용하여 주어진 원소대로 2행 2열의 A, B를 생성한다. numpy의 identity를 이용하여 2행 2열의 identity 행렬을 생성한다.\n",
        "\n",
        "그 후 주어진 계산에 맞게 식을 쓰고 print 메소드를 사용하여 값을 출력한다. 이 떄 AB와 B의 제곱은 행렬식 사이의 곱이므로 @를 이용하여, 2와 B제곱 사이의 곱은 숫자와 행렬사이 곱이므로 *를 이용하여 곱한다."
      ],
      "metadata": {
        "id": "LYOXs6Z9u1uJ"
      }
    },
    {
      "cell_type": "markdown",
      "source": [
        "# python 3"
      ],
      "metadata": {
        "id": "wl43amyuz09T"
      }
    },
    {
      "cell_type": "code",
      "source": [
        "#python 3\n",
        "def anti_diagonal(mat):\n",
        "  length1 = len(mat)-1\n",
        "  total1=0\n",
        "  for i in range(length1+1):\n",
        "    total1 += mat[length1-i, i]\n",
        "  print(\"the sum of the other direction diagonal elements  : \",total1)\n"
      ],
      "metadata": {
        "id": "8U5rcj_Dv5In"
      },
      "execution_count": null,
      "outputs": []
    },
    {
      "cell_type": "code",
      "source": [
        "A = np.array([[5,2,3],[8,-3,4],[8,-3,4]])\n",
        "anti_diagonal(A)"
      ],
      "metadata": {
        "colab": {
          "base_uri": "https://localhost:8080/"
        },
        "id": "E0RETv0Dw7dT",
        "outputId": "d6303edb-d62c-4408-87a5-7b5740f32a00"
      },
      "execution_count": null,
      "outputs": [
        {
          "output_type": "stream",
          "name": "stdout",
          "text": [
            "the sum of the other direction diagonal elements  :  8\n"
          ]
        }
      ]
    },
    {
      "cell_type": "code",
      "source": [
        "B = np.array([[51,4,0,0],[2,-1,5,1],[1,-1,1,1],[1,-1,1,1]])\n",
        "anti_diagonal(B)"
      ],
      "metadata": {
        "colab": {
          "base_uri": "https://localhost:8080/"
        },
        "id": "eFs2JT76x4Pv",
        "outputId": "7ea75151-6bba-4483-dfd2-2d9a81aeb98d"
      },
      "execution_count": null,
      "outputs": [
        {
          "output_type": "stream",
          "name": "stdout",
          "text": [
            "the sum of the other direction diagonal elements  :  5\n"
          ]
        }
      ]
    },
    {
      "cell_type": "markdown",
      "source": [
        "행렬을 인자로 받는 anti diagonal 함수를 생성한다. 인자로 오는 행렬들은 정방행렬로 len()를 통해 행이자 열 수를 length1이라는 변수로 받는다. 반대방향대각원소의 숫자를 더해받을 초기값 0의 변수 total1도 설정한다.\n",
        "\n",
        "행렬의 인덱스는 0부터 실제 행수-1까지 진행되는 것과 별도의 시작숫자 지정이 없을 경우 0부터 들어간 숫자의 -1까지 들어가는 range(), For문을 이용하여 i에 0부터 각 행의 숫자 전까지가 들어갈 수 있도록 한다.\n",
        "\n",
        "for문이 실행되는 동안 순차적으로 마지막행의 첫번쨰열 원소(for문상으로 주어진 행렬 A의 A[len(A)-1, 1])부터 첫번쨰행의 마지막열 원소가 total에 더해질 수 있도록 한다.\n",
        "\n",
        "함수의 최종행에 total1의 값을 출력할 수 있도록 하여 반대방향 대각원소의 합을 알 수 있도록 한다.\n",
        "\n",
        "이를 토대로 numpy의 array를 통해 생성된 3행 3열의 A와 4행 4열 B를 생성한 함수 anti_diagonal에 인자로 넣어 반대방향 대각원소의 합을 구할 수 있도록 한다."
      ],
      "metadata": {
        "id": "2OJ8PqF6yNZ_"
      }
    }
  ]
}